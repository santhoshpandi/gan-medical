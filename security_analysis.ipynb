#information entropy

import math
import numpy as np
from PIL import Image

def calculate_entropy(image_path):
    img = Image.open(image_path).convert('L')
    width, height = img.size
    pixels = np.array(img.getdata())
    count = np.zeros(256)
    for pixel in pixels:
        count[pixel] += 1
    probabilities = count / (width * height)
    entropy = 0
    for probability in probabilities:
        if probability > 0:
            entropy += probability * math.log2(probability)
    return -entropy

print(calculate_entropy('/content/249_imagen_generada_3.png'))
print(calculate_entropy('/content/149_imagen_generada_4.png'))
print(calculate_entropy('/content/119_imagen_generada_1.png'))
print(calculate_entropy('/content/149_imagen_generada_1.png'))

#Sensitivity Analysis

#Calculating NPCR value

from PIL import Image
import numpy as np

def calculate_npcr(img1_path, img2_path):
    img1 = np.array(Image.open(img1_path).convert('L'))  # convert to grayscale
    img2 = np.array(Image.open(img2_path).convert('L'))

    # Calculate the percentage of pixels that changed
    changed_pixels = np.sum(img1 != img2)
    total_pixels = img1.shape[0] * img1.shape[1]
    npc_r = changed_pixels / total_pixels * 100

    return npc_r

# Example usage
npcr_value = calculate_npcr('/content/249_imagen_generada_3.png', '/content/269_imagen_generada_5.png')
print(f"The NPCR value is: {npcr_value:.2f}%")

npcr_value = calculate_npcr('/content/249_imagen_generada_3.png', '/content/149_imagen_generada_4.png')
print(f"The NPCR value is: {npcr_value:.2f}%")

npcr_value = calculate_npcr('/content/199_imagen_generada_1.png', '/content/119_imagen_generada_1.png')
print(f"The NPCR value is: {npcr_value:.2f}%")

npcr_value = calculate_npcr('/content/249_imagen_generada_3.png', '/content/289_imagen_generada_1.png')
print(f"The NPCR value is: {npcr_value:.2f}%")

npcr_value = calculate_npcr('/content/149_imagen_generada_4.png', '/content/269_imagen_generada_5.png')
print(f"The NPCR value is: {npcr_value:.2f}%")

npcr_value = calculate_npcr('/content/149_imagen_generada_4.png', '/content/269_imagen_generada_7.png')
print(f"The NPCR value is: {npcr_value:.2f}%")


#Calculating UACI value

from PIL import Image
import numpy as np

def calculate_uaci(image_path_1, image_path_2):
    # Open the images
    img1 = Image.open(image_path_1).convert('L')
    img2 = Image.open(image_path_2).convert('L')
    # Resize the image to new width and height
    new_width = 389
    new_height = 389
    img2= img2.resize((new_width, new_height))

    # Convert the images to numpy arrays
    arr1 = np.array(img1)
    arr2 = np.array(img2)

    # Calculate the absolute difference between the two arrays
    abs_diff = np.abs(arr1 - arr2)

    # Calculate the UACI value
    uaci = np.sum(abs_diff) / (np.sum(arr1) + np.sum(arr2)) *100
    
    return uaci



calculate_uaci('/content/249_imagen_generada_3.png','/content/269_imagen_generada_7.png')


calculate_uaci('/content/159_imagen_generada_0.png','/content/169_imagen_generada_1.png')


calculate_uaci('/content/169_imagen_generada_1.png','/content/199_imagen_generada_1.png')


calculate_uaci('/content/119_imagen_generada_1.png','/content/269_imagen_generada_7.png')


calculate_uaci('/content/289_imagen_generada_1.png','/content/269_imagen_generada_7.png')

#Cipher text

#MSE

from PIL import Image

# Open the image
img = Image.open("image.jpg")

# Resize the image to new width and height





from PIL import Image
import math

def mse(imageA, imageB):
    # Load the two images and convert them to RGB arrays
    imgA = Image.open(imageA).convert('RGB')
    imgB = Image.open(imageB).convert('RGB')
    pixelsA = imgA.load()
    pixelsB = imgB.load()

    # Get the dimensions of the images
    width, height = imgA.size

    # Calculate the MSE
    sum = 0
    for i in range(width):
        for j in range(height):
            rA, gA, bA = pixelsA[i, j]
            rB, gB, bB = pixelsB[i, j]
            sum += (rA - rB) ** 2 + (gA - gB) ** 2 + (bA - bB) ** 2
    mse = sum / (width * height * 3)

    return mse
mse('original1.png','encrypted1.png')

mse('original2.png','encrypted2.png')

mse('original3.png','encrypted3.png')

mse('original4.png','encrypted4.png')

mse('original5.png','encrypted5.png')

#SSIM

import numpy as np

def ssim(image_path_1, image_path_2):
    # Compute means
    img1 = Image.open(image_path_1).convert('L')
    img2 = Image.open(image_path_2).convert('L')
    mu1 = np.mean(img1)
    mu2 = np.mean(img2)
    
    # Compute variances
    var1 = np.var(img1)
    var2 = np.var(img2)
    
    # Compute covariance
    cov = np.cov(img1, img2)[0][1]
    
    # Compute constants for SSIM formula
    c1 = (0.01 * 255) ** 2
    c2 = (0.03 * 255) ** 2
    
    # Compute SSIM
    numerator = (2 * mu1 * mu2 + c1) * (2 * cov + c2)
    denominator = (mu1 ** 2 + mu2 ** 2 + c1) * (var1 + var2 + c2)
    ssim = numerator / denominator
    
    return ssim



ssim('original1.png','encrypted1.png')

ssim('original2.png','encrypted2.png')

ssim('original3.png','encrypted3.png')

ssim('original4.png','encrypted4.png')

ssim('original5.png','encrypted5.png')











#Metrices of Ranking

#Binary Matrix Rank

import numpy as np

# Function to convert an image to binary matrix
def image_to_binary(image_path, threshold=127):
    # Load the image
    image = Image.open(image_path)
    # Convert the image to grayscale
    gray_image = image.convert('L')
    # Convert the grayscale image to a numpy array
    gray_array = np.array(gray_image)
    # Create a binary matrix by thresholding the gray array
    binary_matrix = np.where(gray_array > threshold, 1, 0)
    return binary_matrix

def binary_matrix_rank_test(binary_matrix):
    """
    Performs the Binary Matrix Rank Test on the input binary matrix.

    Parameters:
        binary_matrix (numpy array): a binary matrix to test

    Returns:
        p_value (float): the p-value of the test
    """
    block_size = 32
    n, m = binary_matrix.shape
    num_blocks = n // block_size
    p_value = 1.0

    for i in range(num_blocks):
        block = binary_matrix[i*block_size:(i+1)*block_size, :]
        rank = np.linalg.matrix_rank(block)

        k = min(block_size, m)
        block_count = 0
        for j in range(m-k+1):
            subblock = block[:, j:j+k]
            subrank = np.linalg.matrix_rank(subblock)
            if subrank == k:
                block_count += 1

        # Update the P value using the formula
        p_value -= 0.5 ** abs(n) * (n-k) * (2**(k-rank+1) - 1) * block_count

    return p_value



bin=image_to_binary('/content/289_imagen_generada_1.png')
binary_matrix_rank_test(bin)

bin=image_to_binary('/content/199_imagen_generada_6.png')
binary_matrix_rank_test(bin)

bin=image_to_binary('/content/149_imagen_generada_1.png')
binary_matrix_rank_test(bin)





#Random Excursion Variant Test

import numpy as np

def random_excursions_variant_test(binary_sequence):
    stateX = 0
    stateY = 0
    stateZ = 0
    J = 0
    cycles = 0
    binary_sequence = np.array(binary_sequence)
    n = len(binary_sequence)
    # Define the mapping from bits to +/-1
    bit_map = np.array(binary_sequence, dtype=np.int)
    bit_map[bit_map == 0] = -1
    bit_map = np.concatenate(([0], bit_map))
    for i in range(n):
        Xi = bit_map[i+1]
        stateX = (stateX + Xi) % 2
        stateY = (stateY + stateX) % 2
        stateZ = (stateZ + stateY) % 2
        if i % 8 == 7:
            if stateZ == 0:
                cycles += 1
            stateX = 0
            stateY = 0
            stateZ = 0
    # Calculate the test statistic
    p_value = 1.0 - 0.95 ** (cycles)
    return p_value


import numpy as np
from PIL import Image

def image_to_binary(image_path):
    # Load the image as a grayscale image
    image = Image.open(image_path).convert('L')
    # Convert the image to a binary matrix
    binary_matrix = np.array(image).astype(bool)
    # Flatten the matrix to a 1D array
    binary_sequence = binary_matrix.flatten().astype(int)
    # Convert 0's to -1's
    binary_sequence[binary_sequence == 0] = -1
    return binary_sequence.tolist()



binary_sequence = image_to_binary('/content/149_imagen_generada_4.png')

print(random_excursions_variant_test(binary_sequence))

#

#

import math

def maurers_universal_statistical_test(binary_sequence, block_size):
    """Perform Maurer's Universal Statistical Test on a binary sequence."""
    n = len(binary_sequence)
    L = block_size
    K = n // L

    # Initialize parameters
    block_frequencies = [0] * (L+1)
    b = math.ceil(L/2)
    T = math.floor((K-b+1)/math.pow(2, b-1))
    d = [0] * T

    # Step 1: Pre-processing
    for i in range(K):
        start = i*L
        end = start + L
        block = binary_sequence[start:end]
        num_ones = block.count('1')
        block_frequencies[num_ones] += 1

    # Step 2: Generate and process template sequences
    for i in range(T):
        u = binary_sequence[(i+1)*L : (i+b)*L]
        x = 0
        for j in range(K-b+1):
            v = binary_sequence[j*L : j+b*L]
            if u == v:
                x += 1
        d[i] = x

    # Step 3: Compute test statistic
    pi = [0] * (L+1)
    for i in range(L+1):
        pi[i] = math.factorial(L) / (math.factorial(i) * math.factorial(L-i))
    V = [0] * (L+1)
    for i in range(L+1):
        sum = 0
        for j in range(i, L+1):
            sum += ((-1)**(j-i)) * pi[j] * block_frequencies[j]
        V[i] = sum / math.pow(2, L)
    V_prime = [0] * (L+1)
    for i in range(L+1):
        sum = 0
        for j in range(i+1):
            sum += V[j]
        V_prime[i] = sum
    chi_squared = 0
    for i in range(T):
        chi_squared += math.pow(d[i] - V_prime[d[i]//L], 2) / V_prime[d[i]//L]

    # Step 4: Compute P-value using natural logarithm of gamma function
    log_p_value = math.lgamma(math.pow(2, L-1)) - math.lgamma(chi_squared/2) - (L-1)*math.log(2)
    p_value = math.exp(log_p_value)

    return p_value


binary_sequence = image_to_binary('/content/149_imagen_generada_4.png')
block_size = 10
p_value = maurers_universal_statistical_test(binary_sequence, block_size)
print(p_value)


